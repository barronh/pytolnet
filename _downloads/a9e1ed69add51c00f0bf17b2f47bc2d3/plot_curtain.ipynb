{
  "cells": [
    {
      "cell_type": "markdown",
      "metadata": {},
      "source": [
        "\n# TOLNet Ozone Curtain Plot\n\nThis example shows how to acquire TOLNet data from UAH and make a curtain plot.\n"
      ]
    },
    {
      "cell_type": "markdown",
      "metadata": {},
      "source": [
        "## Initialize API and Find Data\n\n"
      ]
    },
    {
      "cell_type": "code",
      "execution_count": null,
      "metadata": {
        "collapsed": false
      },
      "outputs": [],
      "source": [
        "# python -m pip install git+https://github.com/barronh/pytolnet.git\nimport pytolnet\n\napi = pytolnet.TOLNetAPI()\n\n# Find newest data from UAH\ncldf = api.data_calendar('UAH')\n# Choose newest?\ndata_id = cldf.index.values[0]\n# Choose specific version\n# data_id = 2115"
      ]
    },
    {
      "cell_type": "markdown",
      "metadata": {},
      "source": [
        "## Retrieve and Characterize Data\n\n"
      ]
    },
    {
      "cell_type": "code",
      "execution_count": null,
      "metadata": {
        "collapsed": false
      },
      "outputs": [],
      "source": [
        "ds = api.to_dataset(data_id)\n\ndf = ds.to_dataframe().reset_index()\nprint(df.describe())\n\n# Make a curtain plot\nqm = ds['derived_ozone'].T.plot(figsize=(12, 4), vmin=30, vmax=100)\nqm.figure.savefig(f'derived_ozone_{data_id}.png')"
      ]
    }
  ],
  "metadata": {
    "kernelspec": {
      "display_name": "Python 3",
      "language": "python",
      "name": "python3"
    },
    "language_info": {
      "codemirror_mode": {
        "name": "ipython",
        "version": 3
      },
      "file_extension": ".py",
      "mimetype": "text/x-python",
      "name": "python",
      "nbconvert_exporter": "python",
      "pygments_lexer": "ipython3",
      "version": "3.12.3"
    }
  },
  "nbformat": 4,
  "nbformat_minor": 0
}