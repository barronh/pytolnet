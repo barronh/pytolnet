{
  "cells": [
    {
      "cell_type": "markdown",
      "metadata": {},
      "source": [
        "\n# TOLNet Ozone CMAQ Comparison Plot\n\nThis example shows how to compare TOLNet to CMAQ by interpolating CMAQ to the.\nTOLNet grid. It uses NASA LaRC data during FIREX-AQ as an example with EQUATES\nCMAQ from pyrsig. You can adapt the example to use your CMAQ on local disk.\n"
      ]
    },
    {
      "cell_type": "markdown",
      "metadata": {},
      "source": [
        "## Install pytolnet if not avail\n\n"
      ]
    },
    {
      "cell_type": "code",
      "execution_count": null,
      "metadata": {
        "collapsed": false
      },
      "outputs": [],
      "source": [
        "# !python -m pip install git+https://github.com/barronh/pytolnet.git"
      ]
    },
    {
      "cell_type": "markdown",
      "metadata": {},
      "source": [
        "## Initialize API and Find Data\n\n"
      ]
    },
    {
      "cell_type": "code",
      "execution_count": null,
      "metadata": {
        "collapsed": false
      },
      "outputs": [],
      "source": [
        "import pytolnet\nimport pyrsig\nimport pandas as pd\nimport pyproj\nimport numpy as np\nimport matplotlib.pyplot as plt\n\n\napi = pytolnet.TOLNetAPI()\n\n# Find newest data from UAH\ncldf = api.data_calendar('NASA LaRC')\ndaysdf = cldf.query(\n    'start_data_date >= \"2019-09-09 00:00:00\"'\n    + ' and start_data_date < \"2019-09-13 00:00:00\"'\n)"
      ]
    },
    {
      "cell_type": "markdown",
      "metadata": {},
      "source": [
        "## Retrieve TOLNet Data\n\n"
      ]
    },
    {
      "cell_type": "code",
      "execution_count": null,
      "metadata": {
        "collapsed": false
      },
      "outputs": [],
      "source": [
        "tdss = []\nfor id, row in daysdf.iterrows():\n    tdss.append(api.to_dataset(id))"
      ]
    },
    {
      "cell_type": "markdown",
      "metadata": {},
      "source": [
        "## Retrieve CMAQ Data\n\n"
      ]
    },
    {
      "cell_type": "code",
      "execution_count": null,
      "metadata": {
        "collapsed": false
      },
      "outputs": [],
      "source": [
        "ilat = tdss[0].instrument_latitude   # Use first file for\nilon = tdss[0].instrument_longitude  # instrument location\nbbox = (ilon - 0.1, ilat - 0.1, ilon + 0.1, ilat + 0.1)\nrsig = pyrsig.RsigApi(bbox=bbox)\nqdss = []\nfor id, row in daysdf.iterrows():\n    bdate = pd.to_datetime(row['start_data_date'])\n    # Use RSIG to get EQUATES Simulations for comparison\n    qds = rsig.to_ioapi('cmaq.equates.conus.conc.O3', bdate=bdate)\n    zds = rsig.to_ioapi('cmaq.equates.conus.conc.ZH', bdate=bdate)\n    qds['ZH_ASL_MID_KM'] = (zds['ZH'] + qds['ELEVATION']) / 1000.\n    # Optional, use local data instead of pyrsig\n    # qds = pyrsig.open_ioapi(f'./CCTM_CONC_{bdate:%Y%m%d}')\n    # zds = pyrsig.open_ioapi(f'./METCRO3D_{bdate:%Y%m%d}')\n    # gds = pyrsig.open_ioapi(f'./GRIDCRO3D_{bdate:%Y%m%d}')\n    # qds['ZH_ASL_MID_KM'] = (zds['ZH'] + gds['HT']) / 1000.\n    qdss.append(qds)"
      ]
    },
    {
      "cell_type": "markdown",
      "metadata": {},
      "source": [
        "## Interpolate CMAQ to TOLNet\n\n"
      ]
    },
    {
      "cell_type": "code",
      "execution_count": null,
      "metadata": {
        "collapsed": false
      },
      "outputs": [],
      "source": [
        "qproj = pyproj.Proj(qdss[0].crs_proj4)  # Use first CMAQ for projection info\nix, iy = qproj(ilon, ilat)\nfor qds, tds in zip(qdss, tdss):\n    # Make a placeholder for interpolated data\n    tds['CMAQ_O3'] = tds['derived_ozone'] * np.nan\n    tds['CMAQ_O3'].attrs.update(units='ppbv', long_name='CMAQ')\n    # Find nearest grid cell and interpolate time\n    tsmatch = qds.sel(\n        ROW=iy, COL=ix, method='nearest'\n    ).interp(TSTEP=tds['time'])\n    # For each time-step, interpolate from ZH coordinate to altitude\n    for ti, t in enumerate(tsmatch.time):\n        ts = tsmatch.sel(time=t)\n        # Interpolate along altitude in meters above sea level\n        tds['CMAQ_O3'][ti] = np.interp(tds.altitude, ts.ZH_ASL_MID_KM, ts.O3)"
      ]
    },
    {
      "cell_type": "markdown",
      "metadata": {},
      "source": [
        "## Plot a Day\n\n"
      ]
    },
    {
      "cell_type": "code",
      "execution_count": null,
      "metadata": {
        "collapsed": false
      },
      "outputs": [],
      "source": [
        "norm = plt.Normalize(30, 70)\ncmap = 'viridis'\ndlevels = [-35, -25, -15, -5, 5, 15, 25, 35]\ndcmap = 'seismic'\ngskw = dict(left=0.05, right=0.99)\nfor tds in tdss:\n    sdate = pd.to_datetime(tds.attrs['start_data_date'])\n    edate = pd.to_datetime(tds.attrs['end_data_date'])\n    loc = tds.attrs['DATA_LOCATION']\n    tds = tds.groupby(tds.time.dt.floor('1h')).mean()\n    Z1 = tds.derived_ozone.T * 1\n    Z1.attrs.update(long_name='TOLNet', units='ppbv')\n    Z2 = tds.CMAQ_O3.T.where(~Z1.isnull())\n    dZ = Z2 - Z1\n    dZ.attrs.update(long_name='CMAQ - TOLNet', units='ppbv')\n\n    fig, axx = plt.subplots(\n        1, 3, figsize=(18, 4), sharex=True, sharey=True, gridspec_kw=gskw\n    )\n    qm = Z1.plot(ax=axx[0], norm=norm, cmap=cmap)\n    Z2.plot(ax=axx[1], norm=norm, cmap=cmap)\n    dZ.plot(ax=axx[2], levels=dlevels, cmap=dcmap, extend='both')\n    axx[0].set(xlim=(sdate, edate))  # show only hours with valid TOLNet data\n    plt.setp(axx, facecolor='gainsboro', xlabel='time [UTC]')\n    fig.suptitle(loc)\n    fig.savefig(f'EQUATES_TOLNet_{loc}_{sdate:%Y-%m-%d}.png')"
      ]
    }
  ],
  "metadata": {
    "kernelspec": {
      "display_name": "Python 3",
      "language": "python",
      "name": "python3"
    },
    "language_info": {
      "codemirror_mode": {
        "name": "ipython",
        "version": 3
      },
      "file_extension": ".py",
      "mimetype": "text/x-python",
      "name": "python",
      "nbconvert_exporter": "python",
      "pygments_lexer": "ipython3",
      "version": "3.12.3"
    }
  },
  "nbformat": 4,
  "nbformat_minor": 0
}